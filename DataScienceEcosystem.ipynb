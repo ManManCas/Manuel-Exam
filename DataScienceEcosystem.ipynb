{
 "cells": [
  {
   "cell_type": "markdown",
   "id": "1f509544-6a4d-41e5-99ab-5c5b48465e60",
   "metadata": {
    "tags": []
   },
   "source": [
    "\n",
    "\n",
    "# Data Science Tools and Ecosystem\n"
   ]
  },
  {
   "cell_type": "markdown",
   "id": "1a75c132-c4aa-468d-96e2-6bf5b0f4b093",
   "metadata": {},
   "source": [
    "# In this notebook, Data Science Tools and Ecosystem are summarized"
   ]
  },
  {
   "cell_type": "markdown",
   "id": "d9320f11-ee99-4dd4-bdbb-4d355e51e16d",
   "metadata": {
    "tags": []
   },
   "source": [
    "Some of the commonly used libraries used by Data Scientists include:\n",
    "1. ggplot2 \n",
    "2. Pandas\n",
    "3. Numpy\n",
    "4. Matplotlib\n"
   ]
  },
  {
   "cell_type": "markdown",
   "id": "e3c6fb09-fe3e-4ab2-ab62-ba784249df93",
   "metadata": {
    "tags": []
   },
   "source": [
    "| Data Science Tools |\n",
    "|--------------------|\n",
    "| Jupyter Notebook   |\n",
    "| RStudio            |\n",
    "| VS Code            |\n"
   ]
  },
  {
   "cell_type": "markdown",
   "id": "cc0910da-d934-4a10-b863-fd14eb7b3f30",
   "metadata": {},
   "source": [
    "### Below are a few examples of evaluating arithmetic expressions in Python.\n"
   ]
  },
  {
   "cell_type": "code",
   "execution_count": 4,
   "id": "188b0d3b-441c-45f0-bea6-99bae85c9434",
   "metadata": {
    "tags": []
   },
   "outputs": [
    {
     "data": {
      "text/plain": [
       "17"
      ]
     },
     "execution_count": 4,
     "metadata": {},
     "output_type": "execute_result"
    }
   ],
   "source": [
    "# This is a simple arithmetic expression to multiply then add integers\n",
    "(3 * 4) + 5\n"
   ]
  },
  {
   "cell_type": "code",
   "execution_count": 5,
   "id": "0f3847f6-6ee8-4bb7-a5b3-f13bf2c10f8d",
   "metadata": {
    "tags": []
   },
   "outputs": [
    {
     "data": {
      "text/plain": [
       "3.3333333333333335"
      ]
     },
     "execution_count": 5,
     "metadata": {},
     "output_type": "execute_result"
    }
   ],
   "source": [
    "# This will convert 200 minutes to hours by dividing by 60\n",
    "200 / 60\n"
   ]
  },
  {
   "cell_type": "markdown",
   "id": "17e1051f-3c55-468e-a013-5b4d93603d6a",
   "metadata": {
    "tags": []
   },
   "source": [
    "**Objectives:**\n",
    "\n",
    "- List popular languages for Data Science.\n",
    "- Describe key Data Science libraries and tools.\n",
    "- Demonstrate basic arithmetic operations in Python.\n",
    "- Convert time units (e.g., minutes to hours) using Python.\n",
    "- Create and render Markdown cells in a Jupyter Notebook.\n"
   ]
  },
  {
   "cell_type": "markdown",
   "id": "1b28aaf1-e7dd-46b4-ac2e-c8f6de8af6eb",
   "metadata": {},
   "source": [
    "## Author\n",
    "\n",
    "Manuel Garcia-Mancha Castellanos\n"
   ]
  },
  {
   "cell_type": "code",
   "execution_count": null,
   "id": "81c8afd8-f1d5-4b22-b927-133780d048ab",
   "metadata": {},
   "outputs": [],
   "source": []
  }
 ],
 "metadata": {
  "kernelspec": {
   "display_name": "Python",
   "language": "python",
   "name": "conda-env-python-py"
  },
  "language_info": {
   "codemirror_mode": {
    "name": "ipython",
    "version": 3
   },
   "file_extension": ".py",
   "mimetype": "text/x-python",
   "name": "python",
   "nbconvert_exporter": "python",
   "pygments_lexer": "ipython3",
   "version": "3.7.12"
  }
 },
 "nbformat": 4,
 "nbformat_minor": 5
}
